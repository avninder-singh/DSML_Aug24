{
  "nbformat": 4,
  "nbformat_minor": 0,
  "metadata": {
    "colab": {
      "provenance": []
    },
    "kernelspec": {
      "name": "python3",
      "display_name": "Python 3"
    },
    "language_info": {
      "name": "python"
    }
  },
  "cells": [
    {
      "cell_type": "code",
      "execution_count": null,
      "metadata": {
        "colab": {
          "base_uri": "https://localhost:8080/"
        },
        "id": "vqEp3hWlTu6O",
        "outputId": "a5d55d1f-e63b-4288-c4ae-0a4dad50d200"
      },
      "outputs": [
        {
          "output_type": "execute_result",
          "data": {
            "text/plain": [
              "(('Rohan', 'Physics', 21, 69.75),\n",
              " (1, 2, 3, 4, 5),\n",
              " ('a', 'b', 'c', 'd'),\n",
              " (25.5, True, -55, (1+2j)))"
            ]
          },
          "metadata": {},
          "execution_count": 1
        }
      ],
      "source": [
        "# Tuple\n",
        "tup1 = (\"Rohan\", \"Physics\", 21, 69.75)\n",
        "tup2 = (1, 2, 3, 4, 5)\n",
        "tup3 = (\"a\", \"b\", \"c\", \"d\")\n",
        "tup4 = (25.50, True, -55, 1+2j)\n",
        "tup1, tup2, tup3, tup4\n"
      ]
    },
    {
      "cell_type": "code",
      "source": [
        "tup1[0:2],tup1[1:],tup1[-1:-4:-1]\n"
      ],
      "metadata": {
        "colab": {
          "base_uri": "https://localhost:8080/"
        },
        "id": "QX-nZEG_VZye",
        "outputId": "74b61df2-40ec-4004-8b58-86bef8e6c45b"
      },
      "execution_count": null,
      "outputs": [
        {
          "output_type": "execute_result",
          "data": {
            "text/plain": [
              "(('Rohan', 'Physics'), ('Physics', 21, 69.75), (69.75, 21, 'Physics'))"
            ]
          },
          "metadata": {},
          "execution_count": 14
        }
      ]
    },
    {
      "cell_type": "code",
      "source": [
        "# tuple operations\n",
        "# tup2[1]=100\n",
        "tup5=tup1+tup2\n",
        "tup5\n",
        "\n",
        "tup6=tup1*2\n",
        "tup6\n",
        "\n",
        "print('Physics' in tup1)"
      ],
      "metadata": {
        "colab": {
          "base_uri": "https://localhost:8080/"
        },
        "id": "V8PoQmeoXdms",
        "outputId": "cc7b57f4-8d24-4f4e-d1ed-754ca4026b2f"
      },
      "execution_count": null,
      "outputs": [
        {
          "output_type": "execute_result",
          "data": {
            "text/plain": [
              "('Rohan', 'Physics', 21, 69.75, 1, 2, 3, 4, 5)"
            ]
          },
          "metadata": {},
          "execution_count": 16
        }
      ]
    },
    {
      "cell_type": "code",
      "source": [
        "# List\n",
        "\n",
        "list1 = ['larry', 'curly', 'moe',1001]\n",
        "list1.append('shemp')         ## append elem at end\n",
        "list1.insert(0, 'xxx')        ## insert elem at index 0\n",
        "list1.extend(['yyy', 'zzz'])  ## add list of elems at end\n",
        "print(list1)  ## ['xxx', 'larry', 'curly', 'moe', 'shemp', 'yyy', 'zzz']\n",
        "print(list1.index('curly'))    ##\n",
        "list1.remove('curly')         ## search and remove that element\n",
        "list1.pop(3)                  ## removes and returns 'larry'\n",
        "print(list1)  ## ['xxx', 'moe', 'shemp', 'yyy', 'zzz']"
      ],
      "metadata": {
        "colab": {
          "base_uri": "https://localhost:8080/"
        },
        "id": "1A537GXKX8mI",
        "outputId": "c16f50e5-d879-40cf-a202-806482ed643b"
      },
      "execution_count": null,
      "outputs": [
        {
          "output_type": "stream",
          "name": "stdout",
          "text": [
            "['xxx', 'larry', 'curly', 'moe', 1001, 'shemp', 'yyy', 'zzz']\n",
            "2\n",
            "['xxx', 'larry', 'moe', 'shemp', 'yyy', 'zzz']\n"
          ]
        }
      ]
    },
    {
      "cell_type": "code",
      "source": [
        "# list.append(elem) -- adds a single element to the end of the list. Common error: does not return the new list, just modifies the original.\n",
        "# list.insert(index, elem) -- inserts the element at the given index, shifting elements to the right.\n",
        "# list.extend(list2) adds the elements in list2 to the end of the list.\n",
        "# list.index(elem) -- searches for the given element from the start of the list and returns its index.\n",
        "# list.remove(elem) -- searches for the first instance of the given element and removes it (throws ValueError if not present)\n",
        "# list.sort() -- sorts the list in place (does not return it). (The sorted() function shown later is preferred.)\n",
        "# list.reverse() -- reverses the list in place (does not return it)\n",
        "# list.count(obj)\n"
      ],
      "metadata": {
        "id": "39R62O4SYTHD"
      },
      "execution_count": null,
      "outputs": []
    },
    {
      "cell_type": "code",
      "source": [
        "# List Comprehension\n",
        "squr=[x**2 for x in range(5)]\n",
        "type(squr)\n"
      ],
      "metadata": {
        "colab": {
          "base_uri": "https://localhost:8080/"
        },
        "id": "oycowOOVXK9W",
        "outputId": "4f1c2d66-bc3b-4ccf-b7d2-7fabf3c0f65c"
      },
      "execution_count": null,
      "outputs": [
        {
          "output_type": "execute_result",
          "data": {
            "text/plain": [
              "list"
            ]
          },
          "metadata": {},
          "execution_count": 7
        }
      ]
    },
    {
      "cell_type": "code",
      "source": [
        "\n",
        "T1 = (10, 20, 30, 40)\n",
        "# Converting the tuple to a list\n",
        "list_T1 = list(T1)\n",
        "# Using list comprehension\n",
        "updated_list = [item + 100 for item in list_T1]\n",
        "# Converting the updated list back to a tuple\n",
        "T2 = tuple(updated_list)\n",
        "print(T2)\n"
      ],
      "metadata": {
        "colab": {
          "base_uri": "https://localhost:8080/"
        },
        "id": "v3yW8c2dZxF5",
        "outputId": "5193e16b-0591-43d8-ced6-18cd9cc3fe1b"
      },
      "execution_count": null,
      "outputs": [
        {
          "output_type": "stream",
          "name": "stdout",
          "text": [
            "(110, 120, 130, 140)\n"
          ]
        }
      ]
    },
    {
      "cell_type": "code",
      "source": [
        "list1.sort()\n",
        "list1.reverse()\n",
        "list1"
      ],
      "metadata": {
        "colab": {
          "base_uri": "https://localhost:8080/"
        },
        "id": "WThaCgA1VwOj",
        "outputId": "c761a0c4-c47a-4104-c750-a62a01491ff1"
      },
      "execution_count": null,
      "outputs": [
        {
          "output_type": "execute_result",
          "data": {
            "text/plain": [
              "['zzz', 'yyy', 'xxx', 'shemp', 'moe']"
            ]
          },
          "metadata": {},
          "execution_count": 4
        }
      ]
    },
    {
      "cell_type": "code",
      "source": [
        "# sorting\n",
        "\n",
        "list1=[5,2,8,3,9,1,10]\n",
        "sorted(list1)\n",
        "list1"
      ],
      "metadata": {
        "colab": {
          "base_uri": "https://localhost:8080/"
        },
        "id": "y1YMiMceWiKS",
        "outputId": "7b0b5944-35e9-4528-b7ca-4ac6c5133e11"
      },
      "execution_count": null,
      "outputs": [
        {
          "output_type": "execute_result",
          "data": {
            "text/plain": [
              "[5, 2, 8, 3, 9, 1, 10]"
            ]
          },
          "metadata": {},
          "execution_count": 8
        }
      ]
    },
    {
      "cell_type": "code",
      "source": [
        "sorted(list1,reverse=True)\n",
        "list1"
      ],
      "metadata": {
        "colab": {
          "base_uri": "https://localhost:8080/"
        },
        "id": "ekao3NSoW4_Z",
        "outputId": "868fbf06-54a0-49cc-820f-e851ed51587a"
      },
      "execution_count": null,
      "outputs": [
        {
          "output_type": "execute_result",
          "data": {
            "text/plain": [
              "[5, 2, 8, 3, 9, 1, 10]"
            ]
          },
          "metadata": {},
          "execution_count": 10
        }
      ]
    },
    {
      "cell_type": "code",
      "source": [
        "# python operations\n",
        "list3=[1, 2, 3] + [4, 5, 6]\n",
        "list3*3"
      ],
      "metadata": {
        "colab": {
          "base_uri": "https://localhost:8080/"
        },
        "id": "1xtYZeRqXPxz",
        "outputId": "c008dfe2-1ad9-4576-b4f7-0792618f489d"
      },
      "execution_count": null,
      "outputs": [
        {
          "output_type": "execute_result",
          "data": {
            "text/plain": [
              "[1, 2, 3, 4, 5, 6, 1, 2, 3, 4, 5, 6, 1, 2, 3, 4, 5, 6]"
            ]
          },
          "metadata": {},
          "execution_count": 13
        }
      ]
    },
    {
      "cell_type": "code",
      "source": [
        "# Dictionary\n",
        "capitals = {\"Maharashtra\":[\"Mumbai\",\"lonawala\"], \"Gujarat\":(\"Gandhinagar\",\"kandla\"), \"Telangana\":\"Hyderabad\", \"Karnataka\":\"Bengaluru\"}\n",
        "numbers = {10:\"Ten\", 20:\"Twenty\", 30:\"Thirty\",40:\"Forty\"}\n",
        "marks = {\"Savita\":67, \"Imtiaz\":88, \"Laxman\":91, \"David\":49}\n",
        "capitals,numbers,marks"
      ],
      "metadata": {
        "colab": {
          "base_uri": "https://localhost:8080/"
        },
        "id": "PZADmjxAB-_1",
        "outputId": "3131d13a-e443-4a05-8ae7-d0dcb5bc5224"
      },
      "execution_count": 1,
      "outputs": [
        {
          "output_type": "execute_result",
          "data": {
            "text/plain": [
              "({'Maharashtra': ['Mumbai', 'lonawala'],\n",
              "  'Gujarat': ('Gandhinagar', 'kandla'),\n",
              "  'Telangana': 'Hyderabad',\n",
              "  'Karnataka': 'Bengaluru'},\n",
              " {10: 'Ten', 20: 'Twenty', 30: 'Thirty', 40: 'Forty'},\n",
              " {'Savita': 67, 'Imtiaz': 88, 'Laxman': 91, 'David': 49})"
            ]
          },
          "metadata": {},
          "execution_count": 1
        }
      ]
    },
    {
      "cell_type": "code",
      "source": [
        "# Creating a dictionary using curly braces\n",
        "sports_player = {\"Name\": \"Sachin Tendulkar\",\"Age\": 48,\"Sport\": \"Cricket\"}\n",
        "print (\"Dictionary using curly braces:\", sports_player)\n",
        "# Creating a dictionary using the dict() function\n",
        "student_info = dict(name=\"Alice\", age=21, major=\"Computer Science\")\n",
        "print(\"Dictionary using dict():\",student_info)"
      ],
      "metadata": {
        "colab": {
          "base_uri": "https://localhost:8080/"
        },
        "id": "z_c9wFoxRY8k",
        "outputId": "c64aa05f-ecd0-4fe5-bfb1-dd7a7aa3d94e"
      },
      "execution_count": null,
      "outputs": [
        {
          "output_type": "stream",
          "name": "stdout",
          "text": [
            "Dictionary using curly braces: {'Name': 'Sachin Tendulkar', 'Age': 48, 'Sport': 'Cricket'}\n",
            "Dictionary using dict(): {'name': 'Alice', 'age': 21, 'major': 'Computer Science'}\n"
          ]
        }
      ]
    },
    {
      "cell_type": "code",
      "source": [
        "# Tuple can a index, key will be immutable\n",
        "d1 = {\"Fruit\":[\"Mango\",\"Banana\"], \"Flower\":[\"Rose\", \"Lotus\"]}\n",
        "d2 = {('India, USA'):'Countries', ('New Delhi', 'New York'):'Capitals'}\n",
        "print (d1)\n",
        "print (d2)"
      ],
      "metadata": {
        "id": "psH_U-BBQait"
      },
      "execution_count": null,
      "outputs": []
    },
    {
      "cell_type": "code",
      "source": [
        "# access dictionary elements\n",
        "student_info = {\n",
        "   \"name\": \"Alice\",\n",
        "   \"age\": 21,\n",
        "   \"major\": \"Computer Science\"\n",
        "}\n",
        "# Accessing values using square brackets\n",
        "name = student_info[\"name\"]\n",
        "print(\"Name:\",name)\n",
        "\n",
        "# Accessing values using the get() method\n",
        "age = student_info.get(\"age\")\n",
        "print(\"Age:\",age)"
      ],
      "metadata": {
        "id": "wALcwx2PQl7s",
        "colab": {
          "base_uri": "https://localhost:8080/"
        },
        "outputId": "8b2a51a1-be64-4599-b4c8-833a81ba0741"
      },
      "execution_count": 2,
      "outputs": [
        {
          "output_type": "stream",
          "name": "stdout",
          "text": [
            "Name: Alice\n",
            "Age: 21\n"
          ]
        }
      ]
    },
    {
      "cell_type": "code",
      "source": [
        "student_info = {\n",
        "   \"name\": \"Alice\",\n",
        "   \"age\": 22,\n",
        "   \"major\": \"Computer Science\",\n",
        "   \"graduation_year\": 2023\n",
        "}\n",
        "# Iterating through keys\n",
        "for key in student_info:\n",
        "   print(\"Keys:\",key,\",\", \"values:\",student_info[key])\n",
        "\n",
        "# Iterating through values\n",
        "for value in student_info.values():\n",
        "   print(\"Values:\",value)\n",
        "\n",
        "# Iterating through key-value pairs\n",
        "for key, value in student_info.items():\n",
        "   print(\"Key:Value:\",key, value)"
      ],
      "metadata": {
        "colab": {
          "base_uri": "https://localhost:8080/"
        },
        "id": "-TIjqoM9RxLH",
        "outputId": "fbcbfb9d-eec3-4434-9630-56a265896e58"
      },
      "execution_count": 3,
      "outputs": [
        {
          "output_type": "stream",
          "name": "stdout",
          "text": [
            "Keys: name , values: Alice\n",
            "Keys: age , values: 22\n",
            "Keys: major , values: Computer Science\n",
            "Keys: graduation_year , values: 2023\n",
            "Values: Alice\n",
            "Values: 22\n",
            "Values: Computer Science\n",
            "Values: 2023\n",
            "Key:Value: name Alice\n",
            "Key:Value: age 22\n",
            "Key:Value: major Computer Science\n",
            "Key:Value: graduation_year 2023\n"
          ]
        }
      ]
    },
    {
      "cell_type": "code",
      "source": [
        "# dict.clear()\n",
        "Animal = {\"Name\":\"Lion\",\"Kingdom\":\"Animalia\",\"Class\":\"Mammalia\",\"Order\":\"Carnivora\"}\n",
        "print(\"Elements of the dictionary before removing elements are: \", Animal)\n",
        "res = Animal.clear()\n",
        "print(\"Elements of the dictionary after removing elements are: \", res)"
      ],
      "metadata": {
        "colab": {
          "base_uri": "https://localhost:8080/"
        },
        "id": "L-gMDOquR9j8",
        "outputId": "c267641e-e845-4383-a3fd-1a3b492c7aac"
      },
      "execution_count": null,
      "outputs": [
        {
          "output_type": "stream",
          "name": "stdout",
          "text": [
            "Elements of the dictionary before removing elements are:  {'Name': 'Lion', 'Kingdom': 'Animalia', 'Class': 'Mammalia', 'Order': 'Carnivora'}\n",
            "Elements of the dictionary after removing elements are:  None\n"
          ]
        }
      ]
    },
    {
      "cell_type": "code",
      "source": [
        "# dict.copy()\n",
        "dictionary = {5: 'x', 15:'y', 25: [7, 8, 9]}\n",
        "print(\"The given dictionary is: \", dictionary)\n",
        "# using copy() method to copy\n",
        "d2 = dictionary.copy()\n",
        "print(\"The new copied dictionary is: \", d2)\n",
        "# Updating the elements in second dictionary\n",
        "d2[15] = 'yy'\n",
        "# updating the items in the list\n",
        "d2[25][1] = '98'\n",
        "print(\"The updated dictionary is: \", dictionary)"
      ],
      "metadata": {
        "colab": {
          "base_uri": "https://localhost:8080/"
        },
        "id": "g0KuPb16bfam",
        "outputId": "9a8f1176-2c72-4472-99ae-866a9582d02f"
      },
      "execution_count": 4,
      "outputs": [
        {
          "output_type": "stream",
          "name": "stdout",
          "text": [
            "The given dictionary is:  {5: 'x', 15: 'y', 25: [7, 8, 9]}\n",
            "The new copied dictionary is:  {5: 'x', 15: 'y', 25: [7, 8, 9]}\n",
            "The updated dictionary is:  {5: 'x', 15: 'y', 25: [7, '98', 9]}\n"
          ]
        }
      ]
    },
    {
      "cell_type": "code",
      "source": [
        "# dict.fromkeys(seq)\n",
        "seq = ('name', 'age', 'sex')\n",
        "dict = dict.fromkeys(seq)\n",
        "# providing a value 10\n",
        "value = 10\n",
        "dict = dict.fromkeys(seq, value)\n",
        "print (\"New Dictionary : %s\" %  str(dict))"
      ],
      "metadata": {
        "colab": {
          "base_uri": "https://localhost:8080/"
        },
        "id": "xaR-inW3cEzQ",
        "outputId": "0dda60ad-a8a2-4210-ddf1-edde9b0c14f4"
      },
      "execution_count": 16,
      "outputs": [
        {
          "output_type": "stream",
          "name": "stdout",
          "text": [
            "New Dictionary : {'name': 10, 'age': 10, 'sex': 10}\n"
          ]
        }
      ]
    },
    {
      "cell_type": "code",
      "source": [
        "dict1 = {'age': 35, 'name': 'abc', 'salary': 45000}\n",
        "\n",
        "val = 'age'\n",
        "print(val)\n",
        "if val in dict1:\n",
        "    print('This is a member of the dictionary')\n",
        "else:\n",
        "    print('This is not a member of the dictionary')"
      ],
      "metadata": {
        "id": "-7vvdR_CB5Zp",
        "colab": {
          "base_uri": "https://localhost:8080/"
        },
        "outputId": "bae6c57d-be59-4764-800f-a4691164a540"
      },
      "execution_count": 19,
      "outputs": [
        {
          "output_type": "stream",
          "name": "stdout",
          "text": [
            "age\n",
            "This is a member of the dictionary\n"
          ]
        }
      ]
    },
    {
      "cell_type": "code",
      "source": [
        "def dict_freq(str1):\n",
        "    '''str1 is a string\n",
        "       Ouput -> A dictionary is expected to be returned'''\n",
        "    result = {}\n",
        "\n",
        "    for i in str1:\n",
        "        if i in result:\n",
        "            result[i] += 1\n",
        "        else:\n",
        "            result[i] = 1\n",
        "\n",
        "    return result\n",
        "\n",
        "dict_freq('van van van')"
      ],
      "metadata": {
        "colab": {
          "base_uri": "https://localhost:8080/"
        },
        "id": "I0DX1a74BpLY",
        "outputId": "1d380042-9e4b-4b2d-99bf-5c6d8e8e959c"
      },
      "execution_count": null,
      "outputs": [
        {
          "output_type": "execute_result",
          "data": {
            "text/plain": [
              "{'v': 3, 'a': 3, 'n': 3, ' ': 2}"
            ]
          },
          "metadata": {},
          "execution_count": 19
        }
      ]
    },
    {
      "cell_type": "code",
      "source": [
        "# FINDING KEY WITH MOST UNIQUE ELEMENTS\n",
        "def countUnique(dictionary):\n",
        "    max_val = 0\n",
        "    max_key = None\n",
        "    for i in dictionary.keys():\n",
        "        s1=set(dictionary[i])\n",
        "        if len(s1)>max_val:\n",
        "            max_val=len(s1)\n",
        "            max_key=i\n",
        "    print(max_key)\n",
        "\n",
        "d = {5: ['x','y'], 15: ['x','y'], 25: [7, 8, 9]}\n",
        "countUnique(d)"
      ],
      "metadata": {
        "colab": {
          "base_uri": "https://localhost:8080/"
        },
        "id": "qp_DUpr7CIKR",
        "outputId": "8ed8045e-75fa-4496-fa71-2916f39caac2"
      },
      "execution_count": 20,
      "outputs": [
        {
          "output_type": "stream",
          "name": "stdout",
          "text": [
            "25\n"
          ]
        }
      ]
    },
    {
      "cell_type": "code",
      "source": [
        "#Set theory\n",
        "my_set = {1, 2, 3, 4, 5}\n",
        "print (my_set)\n",
        "\n",
        "my_set = set([1, 2, 3, 4, 5])\n",
        "print (my_set)\n",
        "\n",
        "my_set = {1, 2, 2, 3, 3, 4, 5, 5}\n",
        "print (my_set)\n",
        "\n",
        "mixed_set = {1, 'hello', (1, 2, 3)}\n",
        "print (mixed_set)\n",
        "\n",
        "my_set = {1, 2, 3, 3}\n",
        "# Adding an element 4 to the set\n",
        "my_set.add(4)\n",
        "print (my_set)\n",
        "\n",
        "my_set = {1, 2, 3, 4}\n",
        "# Removes the element 3 from the set\n",
        "my_set.remove(3)\n",
        "print (my_set)\n",
        "\n",
        "my_set = {1, 2, 3, 4}\n",
        "# No error even if 5 is not in the set\n",
        "my_set.discard(5)\n",
        "print (my_set)\n",
        "\n",
        "squared_set = {x**2 for x in range(1, 6)}\n",
        "print(squared_set)\n",
        "\n",
        "even_set = {x for x in range(1, 11) if x % 2 == 0}\n",
        "print(even_set)\n",
        "\n",
        "nested_set = {(x, y) for x in range(1, 3) for y in range(1, 3)}\n",
        "print(nested_set)\n",
        "\n",
        "my_frozen_set = frozenset([1, 2, 3])\n",
        "print(my_frozen_set)\n",
        "my_frozen_set.add(4)\n",
        "\n",
        "# Defining a set\n",
        "langs = {\"C\", \"C++\", \"Java\", \"Python\"}\n",
        "\n",
        "# Accessing set items using a for loop\n",
        "for lang in langs:\n",
        "   print (lang)\n",
        "\n",
        "my_set = {1, 2, 3, 4, 5}\n",
        "# Accessing set items using list comprehension\n",
        "accessed_items = [item for item in my_set]\n",
        "print(accessed_items)\n",
        "\n",
        "# Defining a set\n",
        "langs = {\"C\", \"C++\", \"Java\", \"Python\"}\n",
        "\n",
        "\n",
        "\n",
        "# Checking if an item exists in the set\n",
        "if \"Java\" in langs:\n",
        "    print(\"Java is present in the set.\")\n",
        "else:\n",
        "    print(\"Java is not present in the set.\")\n",
        "# Checking if an item does not exist in the set\n",
        "if \"SQL\" not in langs:\n",
        "    print(\"SQL is not present in the set.\")\n",
        "else:\n",
        "    print(\"SQL is present in the set.\")\n",
        "\n",
        "\n",
        "# Defining an empty set\n",
        "language = set()\n",
        "# Adding elements to the set using add() method\n",
        "language.add(\"C\")\n",
        "language.add(\"C++\")\n",
        "language.add(\"Java\")\n",
        "language.add(\"Python\")\n",
        "# Printing the updated set\n",
        "print(\"Updated Set:\", language)\n",
        "\n",
        "\n",
        "# Define a set, update can add multiple elements(iterables also)\n",
        "my_set = {1, 2, 3}\n",
        "# Adding element to the set\n",
        "my_set.update([4])\n",
        "# Print the updated set\n",
        "print(\"Updated Set:\", my_set)\n",
        "\n",
        "\n",
        "\n",
        "# Defining three sets\n",
        "lang1 = {\"C\", \"C++\", \"Java\", \"Python\"}\n",
        "lang2 = {\"PHP\", \"C#\", \"Perl\"}\n",
        "lang3 = {\"SQL\", \"C#\"}\n",
        "# Performing union operation\n",
        "combined_set1 = lang1.union(lang2)\n",
        "combined_set2 = lang2 | lang3\n",
        "# Print the combined set\n",
        "print (\"Combined Set1:\", combined_set1)\n",
        "print(\"Combined Set2:\", combined_set2)\n",
        "\n",
        "\n",
        "lang1 = {\"C\", \"C++\", \"Java\", \"Python\"} # when a iterable passed to union it will convert it into set\n",
        "lang2 = [\"PHP\", \"C#\", \"Perl\"]\n",
        "lang3 = lang1.union(lang2)\n",
        "print (lang3)\n",
        "\n",
        "\n"
      ],
      "metadata": {
        "id": "XmDX3u0ctGYY"
      },
      "execution_count": null,
      "outputs": []
    },
    {
      "cell_type": "code",
      "source": [
        "## Object Oriented Programming System\n",
        "class Car:\n",
        "\n",
        "  model = 'Sedan'\n",
        "  color = 'Black'\n",
        "  price = 1000000\n",
        "\n",
        "  def drive(self):\n",
        "    print('Zoom zoom')\n",
        "\n",
        "  def lock(self):\n",
        "    print('Locking the car')\n",
        "\n",
        "  def unlock(self):\n",
        "    print(\"Unlocking the car\")\n",
        "\n",
        "c1 = Car()\n",
        "c2 = Car()\n",
        "\n"
      ],
      "metadata": {
        "id": "5osYMraCXILK"
      },
      "execution_count": null,
      "outputs": []
    },
    {
      "cell_type": "code",
      "source": [
        "print(c1.color, c1.price)"
      ],
      "metadata": {
        "id": "zspxfWqLhkyX"
      },
      "execution_count": null,
      "outputs": []
    },
    {
      "cell_type": "code",
      "source": [
        "print(c2.color, c2.price)"
      ],
      "metadata": {
        "id": "TSYHAmTlhoSF"
      },
      "execution_count": null,
      "outputs": []
    },
    {
      "cell_type": "code",
      "source": [
        "c2.color = 'White'\n",
        "print(c1.color, c1.price)\n",
        "print(c2.color, c2.price)"
      ],
      "metadata": {
        "id": "z-PJrMOLhq-l"
      },
      "execution_count": null,
      "outputs": []
    },
    {
      "cell_type": "code",
      "source": [
        "c2.fuel = 'Diesel'\n",
        "\n",
        "print(c1.fuel)"
      ],
      "metadata": {
        "id": "kJNQ5hDohtg9"
      },
      "execution_count": null,
      "outputs": []
    },
    {
      "cell_type": "code",
      "source": [
        "c2.fuel"
      ],
      "metadata": {
        "id": "cRlul8LBhwG0"
      },
      "execution_count": null,
      "outputs": []
    },
    {
      "cell_type": "code",
      "source": [
        "# Self keyword\n",
        "\n",
        "class Car:\n",
        "\n",
        "  model = 'Sedan'\n",
        "  color = 'Black'\n",
        "  price = 1000000\n",
        "\n",
        "  def drive(self):\n",
        "    print('Zoom zoom')\n",
        "\n",
        "  def lock(self):\n",
        "    print('Locking the car')\n",
        "\n",
        "  def unlock(self):\n",
        "    print(\"Unlocking the car\")\n",
        "\n",
        "\n",
        "  def printdetails(self, a, b, c):\n",
        "    print(self.model, self.color)\n",
        "    print(a, b, c)\n",
        "\n",
        "\n",
        "c1 = Car()\n",
        "c2 = Car()\n",
        "\n",
        "c1.color = 'White'"
      ],
      "metadata": {
        "id": "-fJB4bJZh042"
      },
      "execution_count": null,
      "outputs": []
    },
    {
      "cell_type": "code",
      "source": [
        "c1.printdetails(10, 20,30)"
      ],
      "metadata": {
        "id": "PkBEQfr7h4o5"
      },
      "execution_count": null,
      "outputs": []
    },
    {
      "cell_type": "code",
      "source": [
        "c2.printdetails(10, 20, 30)"
      ],
      "metadata": {
        "id": "p2dWN85oh5Ka"
      },
      "execution_count": null,
      "outputs": []
    },
    {
      "cell_type": "code",
      "source": [
        "class Car:\n",
        "\n",
        "  def printdetails(self):\n",
        "    print('Hi')\n",
        "\n",
        "  def __init__(self, model, color):\n",
        "    self.model = model\n",
        "    self.color = color\n",
        "    self.printdetails()\n",
        "\n",
        "c1 = Car('Hatchbak', 'white')\n",
        "c2 = Car('Sedan', 'Black')\n",
        "print(c1.color, c2.color)"
      ],
      "metadata": {
        "id": "lEQRKAfAh72J"
      },
      "execution_count": null,
      "outputs": []
    },
    {
      "cell_type": "code",
      "source": [
        "class Car:\n",
        "  def __init__(self, model, color, price=1000000):\n",
        "    self.model = model\n",
        "    self.color = color\n",
        "    self.price = price\n",
        "\n",
        "c1 = Car('Hatchback', 'Black', 1500000)\n",
        "c1.price"
      ],
      "metadata": {
        "id": "NIWtIptKh9y4"
      },
      "execution_count": null,
      "outputs": []
    },
    {
      "cell_type": "code",
      "source": [
        "class Counter:\n",
        "    def call(self):\n",
        "        print(self.count)\n",
        "\n",
        "c = Counter()\n",
        "c.count = 5\n",
        "c.call()"
      ],
      "metadata": {
        "id": "mW5pgQc7iAPq"
      },
      "execution_count": null,
      "outputs": []
    },
    {
      "cell_type": "code",
      "source": [
        "def bar():\n",
        "  print('abc')\n",
        "\n",
        "def foo():\n",
        "  print('xyz')\n",
        "  bar()\n",
        "\n",
        "foo()"
      ],
      "metadata": {
        "id": "VAznOJSOiCcl"
      },
      "execution_count": null,
      "outputs": []
    },
    {
      "cell_type": "code",
      "source": [
        "class Counter:\n",
        "    def __init__(self):\n",
        "        self.count=5\n",
        "        self.count=self.count+1\n",
        "\n",
        "c = Counter()\n",
        "print(c.count)"
      ],
      "metadata": {
        "id": "AXfV-5Z6iEml"
      },
      "execution_count": null,
      "outputs": []
    },
    {
      "cell_type": "code",
      "source": [
        "class Car:\n",
        "  def __init__(self, n, m):\n",
        "    self.name = n\n",
        "    self.mileage = m\n",
        "\n",
        "  def __str__(self):\n",
        "    return f\"{self.name}->{self.mileage}\"\n",
        "\n",
        "  def __add__(self, xyz):\n",
        "    return self.mileage + xyz.mileage\n",
        "\n",
        "  def __lt__(self, other):\n",
        "    return self.mileage < other.mileage\n",
        "\n",
        "c1 = Car('Nexon', 12)\n",
        "c2 = Car('Altroz', 13)\n",
        "c3 = Car('xyz', 14)\n"
      ],
      "metadata": {
        "id": "FbuYFOzRD3h6"
      },
      "execution_count": null,
      "outputs": []
    },
    {
      "cell_type": "code",
      "source": [
        "print(c1+c2)\n",
        "print(c1<c2)"
      ],
      "metadata": {
        "colab": {
          "base_uri": "https://localhost:8080/"
        },
        "id": "SzokTYTLH8sd",
        "outputId": "6bdb724b-3280-4937-cf2b-7effc9fa8d47"
      },
      "execution_count": null,
      "outputs": [
        {
          "output_type": "stream",
          "name": "stdout",
          "text": [
            "25\n",
            "True\n"
          ]
        }
      ]
    },
    {
      "cell_type": "code",
      "source": [],
      "metadata": {
        "id": "S7xErdihMRsy"
      },
      "execution_count": null,
      "outputs": []
    },
    {
      "cell_type": "code",
      "source": [
        "dir(c1)"
      ],
      "metadata": {
        "colab": {
          "base_uri": "https://localhost:8080/"
        },
        "id": "I24aw5rPKevL",
        "outputId": "9039b62c-0204-4990-b203-21767c118ed3"
      },
      "execution_count": null,
      "outputs": [
        {
          "output_type": "execute_result",
          "data": {
            "text/plain": [
              "['__add__',\n",
              " '__class__',\n",
              " '__delattr__',\n",
              " '__dict__',\n",
              " '__dir__',\n",
              " '__doc__',\n",
              " '__eq__',\n",
              " '__format__',\n",
              " '__ge__',\n",
              " '__getattribute__',\n",
              " '__gt__',\n",
              " '__hash__',\n",
              " '__init__',\n",
              " '__init_subclass__',\n",
              " '__le__',\n",
              " '__lt__',\n",
              " '__module__',\n",
              " '__ne__',\n",
              " '__new__',\n",
              " '__reduce__',\n",
              " '__reduce_ex__',\n",
              " '__repr__',\n",
              " '__setattr__',\n",
              " '__sizeof__',\n",
              " '__str__',\n",
              " '__subclasshook__',\n",
              " '__weakref__',\n",
              " 'mileage',\n",
              " 'name']"
            ]
          },
          "metadata": {},
          "execution_count": 3
        }
      ]
    },
    {
      "cell_type": "code",
      "source": [
        "c1.__dict__"
      ],
      "metadata": {
        "colab": {
          "base_uri": "https://localhost:8080/"
        },
        "id": "uAIqsuR_KoMu",
        "outputId": "c47feeea-5565-4ee6-c727-156b635cd69f"
      },
      "execution_count": null,
      "outputs": [
        {
          "output_type": "execute_result",
          "data": {
            "text/plain": [
              "{'name': 'Nexon', 'mileage': 12}"
            ]
          },
          "metadata": {},
          "execution_count": 4
        }
      ]
    },
    {
      "cell_type": "code",
      "source": [
        "class Car:\n",
        "\n",
        "  def __init__(self, model, color, price):\n",
        "    self.model = model\n",
        "    self.color = color\n",
        "    self.price = price\n",
        "\n",
        "  def drive(self):\n",
        "    print('zoom zoomm')\n",
        "\n",
        "  def printdetails(self):\n",
        "    print(self.price)\n",
        "\n",
        "c1 = Car('Sedan', 'Black', 1000000)\n",
        "c1.price"
      ],
      "metadata": {
        "colab": {
          "base_uri": "https://localhost:8080/"
        },
        "id": "r9KlRfcpMSam",
        "outputId": "8cf2e96c-01bd-406f-e103-e4786baa1329"
      },
      "execution_count": null,
      "outputs": [
        {
          "output_type": "execute_result",
          "data": {
            "text/plain": [
              "1000000"
            ]
          },
          "metadata": {},
          "execution_count": 5
        }
      ]
    },
    {
      "cell_type": "code",
      "source": [],
      "metadata": {
        "id": "raEDAJtqN-zf"
      },
      "execution_count": null,
      "outputs": []
    },
    {
      "cell_type": "code",
      "source": [
        "c1.price = 1500000\n",
        "c1.price"
      ],
      "metadata": {
        "colab": {
          "base_uri": "https://localhost:8080/"
        },
        "id": "Ldh5xMf0Mu1e",
        "outputId": "95a237bc-4d53-4e8a-df35-a84f487c9de5"
      },
      "execution_count": null,
      "outputs": [
        {
          "output_type": "execute_result",
          "data": {
            "text/plain": [
              "1500000"
            ]
          },
          "metadata": {},
          "execution_count": 6
        }
      ]
    },
    {
      "cell_type": "code",
      "source": [
        "c1.price = 'xyz'\n",
        "c1.price"
      ],
      "metadata": {
        "colab": {
          "base_uri": "https://localhost:8080/",
          "height": 35
        },
        "id": "GZGbAGvZM2s9",
        "outputId": "225f4ad7-d0ac-4a3c-8ec1-2d623110b143"
      },
      "execution_count": null,
      "outputs": [
        {
          "output_type": "execute_result",
          "data": {
            "text/plain": [
              "'xyz'"
            ],
            "application/vnd.google.colaboratory.intrinsic+json": {
              "type": "string"
            }
          },
          "metadata": {},
          "execution_count": 7
        }
      ]
    },
    {
      "cell_type": "code",
      "source": [
        "class Employee:\n",
        "\n",
        "  def __init__(self, name, salary, project):\n",
        "    self.name = name\n",
        "    self.__salary = salary\n",
        "    self.project = project\n",
        "\n",
        "  def __show(self):\n",
        "    print(self.name, self.salary)\n",
        "\n",
        "  def get_salary(self):\n",
        "    return self.__salary\n",
        "\n",
        "  def set_salary(self, salary):\n",
        "    self.__salary = salary\n",
        "\n",
        "emp = Employee('wasim', 20000000, 'NLP')\n",
        "\n",
        "print(emp.get_salary())\n",
        "\n",
        "emp.set_salary(15000000)\n",
        "emp.get_salary()"
      ],
      "metadata": {
        "colab": {
          "base_uri": "https://localhost:8080/"
        },
        "id": "8Uz3ZSdqN_TV",
        "outputId": "5c4f9b04-0c6e-4d0d-e40d-9123c2a68f59"
      },
      "execution_count": null,
      "outputs": [
        {
          "output_type": "stream",
          "name": "stdout",
          "text": [
            "20000000\n"
          ]
        },
        {
          "output_type": "execute_result",
          "data": {
            "text/plain": [
              "15000000"
            ]
          },
          "metadata": {},
          "execution_count": 8
        }
      ]
    },
    {
      "cell_type": "code",
      "source": [
        "## Single Inheritance\n",
        "\n",
        "class Vehicle:\n",
        "  wheels = 4\n",
        "\n",
        "  def vehicle_info(self):\n",
        "    print('Insider of the vehicle class')\n",
        "\n",
        "class Car(Vehicle):\n",
        "  def car_info(self):\n",
        "    self.vehicle_info()\n",
        "    print('Insider of the Car class')\n",
        "\n",
        "\n",
        "c = Car()\n",
        "# c.vehicle_info()\n",
        "c.wheels"
      ],
      "metadata": {
        "colab": {
          "base_uri": "https://localhost:8080/"
        },
        "id": "DGrNCWu_SVvC",
        "outputId": "1a217351-37af-4ab9-b36a-40fabdbd7a2b"
      },
      "execution_count": null,
      "outputs": [
        {
          "output_type": "execute_result",
          "data": {
            "text/plain": [
              "4"
            ]
          },
          "metadata": {},
          "execution_count": 9
        }
      ]
    },
    {
      "cell_type": "code",
      "source": [
        "# Multiple Inheritance\n",
        "\n",
        "class Person:\n",
        "\n",
        "  def person_info(self, name, age):\n",
        "    print('insider person class')\n",
        "\n",
        "\n",
        "class Company:\n",
        "  def company_info(self, name):\n",
        "    print('Insider of company class')\n",
        "\n",
        "\n",
        "class Employee(Person, Company):\n",
        "  def employee_info(self):\n",
        "    print('insider of employee class')\n",
        "\n",
        "emp = Employee()\n",
        "emp.person_info('satish', 29)\n",
        "\n",
        "c = Company()\n",
        "\n",
        "c.company_info('xyz')"
      ],
      "metadata": {
        "colab": {
          "base_uri": "https://localhost:8080/"
        },
        "id": "BYweCW48W0e2",
        "outputId": "dc2fb898-6364-4b6a-8e42-e506f264fef8"
      },
      "execution_count": null,
      "outputs": [
        {
          "output_type": "stream",
          "name": "stdout",
          "text": [
            "insider person class\n",
            "Insider of company class\n"
          ]
        }
      ]
    },
    {
      "cell_type": "code",
      "source": [
        "# Multi Level Inheritance\n",
        "\n",
        "class Vehicle:\n",
        "  def vehicle_info(self):\n",
        "    print('insider of vehicle class')\n",
        "\n",
        "class Car(Vehicle):\n",
        "  def car_info(self):\n",
        "    print('insider of car class')\n",
        "\n",
        "class SportsCar(Car):\n",
        "  def sports_car_info(self):\n",
        "    print('insider of sports car class')\n",
        "\n",
        "s = SportsCar()\n",
        "s.vehicle_info()"
      ],
      "metadata": {
        "colab": {
          "base_uri": "https://localhost:8080/"
        },
        "id": "kGI0Y6JaZcVh",
        "outputId": "72e4d1f9-e45e-4081-ffc7-fe7dcf3a9172"
      },
      "execution_count": null,
      "outputs": [
        {
          "output_type": "stream",
          "name": "stdout",
          "text": [
            "insider of vehicle class\n"
          ]
        }
      ]
    },
    {
      "cell_type": "code",
      "source": [
        "# Hierarchical Inheirtance\n",
        "\n",
        "# Multi Level Inheritance\n",
        "\n",
        "class Vehicle:\n",
        "  def vehicle_info(self):\n",
        "    print('insider of vehicle class')\n",
        "\n",
        "class Car(Vehicle):\n",
        "  def car_info(self):\n",
        "    print('insider of car class')\n",
        "\n",
        "class Truck(Vehicle):\n",
        "  def truck_info(self):\n",
        "    print('Insider of truck class')\n",
        "\n",
        "c = Car()\n",
        "\n",
        "t = Truck()\n",
        "c.vehicle_info()\n",
        "t.vehicle_info()"
      ],
      "metadata": {
        "colab": {
          "base_uri": "https://localhost:8080/"
        },
        "id": "JKxfKyTBbpmb",
        "outputId": "18ea1504-14b6-4af9-e8d4-b4d80b6cce1f"
      },
      "execution_count": null,
      "outputs": [
        {
          "output_type": "stream",
          "name": "stdout",
          "text": [
            "insider of vehicle class\n",
            "insider of vehicle class\n"
          ]
        }
      ]
    },
    {
      "cell_type": "code",
      "source": [
        "# Hybrid Inheritance\n",
        "\n",
        "# Hierarchical Inheirtance\n",
        "\n",
        "# Multi Level Inheritance\n",
        "\n",
        "class Vehicle:\n",
        "  def vehicle_info(self):\n",
        "    print('insider of vehicle class')\n",
        "\n",
        "class Car(Vehicle):\n",
        "  def car_info(self):\n",
        "    print('insider of car class')\n",
        "\n",
        "class Truck(Vehicle):\n",
        "  def truck_info(self):\n",
        "    print('Insider of truck class')\n",
        "\n",
        "class SportsCar(Car, Vehicle):\n",
        "  def sports_car_info(self):\n",
        "    print('insider of sports car')\n",
        "\n",
        "c = Car()\n",
        "\n",
        "t = Truck()\n",
        "c.vehicle_info()\n",
        "t.vehicle_info()"
      ],
      "metadata": {
        "id": "CsnL6jCgdDh8",
        "colab": {
          "base_uri": "https://localhost:8080/"
        },
        "outputId": "c5490c60-e6fa-46dd-caf7-2ee797e9480f"
      },
      "execution_count": null,
      "outputs": [
        {
          "output_type": "stream",
          "name": "stdout",
          "text": [
            "insider of vehicle class\n",
            "insider of vehicle class\n"
          ]
        }
      ]
    },
    {
      "cell_type": "code",
      "source": [
        "class A:\n",
        "    def __init__(self, name):\n",
        "        self.name = name\n",
        "\n",
        "a1 = A(\"Bunty\")\n",
        "a2 = A(\"Babli\")\n",
        "\n",
        "print(id(a1) == id(a2))"
      ],
      "metadata": {
        "colab": {
          "base_uri": "https://localhost:8080/"
        },
        "id": "zAAQOvT-dzzb",
        "outputId": "34663eb0-0e9f-4152-f104-d4f8e7a0b5ee"
      },
      "execution_count": null,
      "outputs": [
        {
          "output_type": "stream",
          "name": "stdout",
          "text": [
            "False\n"
          ]
        }
      ]
    },
    {
      "cell_type": "code",
      "source": [
        "class Random:\n",
        "    def __init__(self, a='Is it possible?'):\n",
        "        self.a = a\n",
        "\n",
        "    def display(self):\n",
        "        print(self.a)\n",
        "\n",
        "r = Random()\n",
        "r.display()\n"
      ],
      "metadata": {
        "colab": {
          "base_uri": "https://localhost:8080/"
        },
        "id": "ji9TMPqbeWUJ",
        "outputId": "9c1d3e4f-768c-4320-becc-16656fa2285e"
      },
      "execution_count": null,
      "outputs": [
        {
          "output_type": "stream",
          "name": "stdout",
          "text": [
            "Is it possible?\n"
          ]
        }
      ]
    },
    {
      "cell_type": "code",
      "source": [
        "class A:\n",
        "    def __init__(self):\n",
        "        self.variable = 'Old'\n",
        "        self.update(self.variable)\n",
        "\n",
        "    def update(self, var):\n",
        "        var = 'New'\n",
        "        self.variable= 'New'\n",
        "\n",
        "a = A()\n",
        "print(a.variable)"
      ],
      "metadata": {
        "colab": {
          "base_uri": "https://localhost:8080/"
        },
        "id": "HH3v-15HfUPK",
        "outputId": "8c627f2d-66f9-4ad9-c4bf-f991ab3ceef2"
      },
      "execution_count": null,
      "outputs": [
        {
          "output_type": "stream",
          "name": "stdout",
          "text": [
            "New\n"
          ]
        }
      ]
    },
    {
      "cell_type": "code",
      "source": [],
      "metadata": {
        "id": "FI0Vz4D_bTv1"
      },
      "execution_count": null,
      "outputs": []
    }
  ]
}