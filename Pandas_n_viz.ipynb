{
  "nbformat": 4,
  "nbformat_minor": 0,
  "metadata": {
    "colab": {
      "provenance": []
    },
    "kernelspec": {
      "name": "python3",
      "display_name": "Python 3"
    },
    "language_info": {
      "name": "python"
    }
  },
  "cells": [
    {
      "cell_type": "code",
      "execution_count": null,
      "metadata": {
        "colab": {
          "base_uri": "https://localhost:8080/"
        },
        "id": "h9uTfqRt7vLi",
        "outputId": "173c7d9a-27a9-4075-8ba2-05acb9e4b2d1"
      },
      "outputs": [
        {
          "output_type": "stream",
          "name": "stdout",
          "text": [
            "   one  two\n",
            "a  1.0    1\n",
            "b  2.0    2\n",
            "c  3.0    3\n",
            "d  NaN    4\n",
            "a    1.0\n",
            "b    2.0\n",
            "c    3.0\n",
            "d    NaN\n",
            "Name: one, dtype: float64\n",
            "a    1.0\n",
            "b    2.0\n",
            "c    3.0\n",
            "d    NaN\n",
            "Name: one, dtype: float64\n"
          ]
        }
      ],
      "source": [
        "import pandas as pd\n",
        "import numpy as np\n",
        "\n",
        "# s = np.array([1,2,4,6,8,9,0])\n",
        "# df=pd.Series(s)\n",
        "# print (df)\n",
        "\n",
        "# data = np.array(['a','b','c','d'])\n",
        "# s = pd.Series(data,index=[100,101,102,103])\n",
        "# print (s)\n",
        "\n",
        "# data = {'a' : 0., 'b' : 1., 'c' : 2.}\n",
        "# s = pd.Series(data)\n",
        "# print (s)\n",
        "\n",
        "# s = pd.Series(5, index=[0, 1, 2, 3])\n",
        "# print (s)\n",
        "\n",
        "# data = {'a' : 0., 'b' : 1., 'c' : 2.}\n",
        "# s = pd.Series(data,index=['b','c','d','a'])\n",
        "# print (s)\n",
        "\n",
        "# s = pd.Series([1,2,3,4,5],index = ['a','b','c','d','e'])\n",
        "# print (s[0])\n",
        "\n",
        "\n",
        "# s = pd.Series([1,2,3,4,5],index = ['a','b','c','d','e'])\n",
        "# print (s[:3])\n",
        "\n",
        "# s = pd.Series([1,2,3,4,5],index = ['a','b','c','d','e'])\n",
        "# print (s[['a','c','d']])\n",
        "\n",
        "# data = [['Alex',10,11],['Bob',12,22],['Clarke',13,33]]\n",
        "# df = pd.DataFrame(data,columns=['Name','Age','Score'],index=[101,102,103])\n",
        "# print (df)\n",
        "\n",
        "# data = {'Name':['Tom', 'Jack', 'Steve', 'Ricky'],'Age':[28,34,29,42]}\n",
        "# df = pd.DataFrame(data)\n",
        "# print (df)\n",
        "\n",
        "# data = {'Name':['Tom', 'Jack', 'Steve', 'Ricky'],'Age':[28,34,29,42]}\n",
        "# df = pd.DataFrame(data, index=[1,2,3,4])\n",
        "# print (df)\n",
        "\n",
        "\n",
        "# data = [{'a': 1, 'b': 2},{'a': 5, 'b': 10, 'c': 20}]\n",
        "# df = pd.DataFrame(data)\n",
        "# print (df)\n",
        "\n",
        "d = {'one' : pd.Series([1, 2, 3], index=['a', 'b', 'c']),\n",
        "   'two' : pd.Series([1, 2, 3, 4], index=['a', 'b', 'c', 'd'])}\n",
        "df = pd.DataFrame(d)\n",
        "print(df)\n",
        "print (df['one'])\n",
        "print(df.one)\n",
        "\n"
      ]
    },
    {
      "cell_type": "code",
      "source": [
        "d = {'one' : pd.Series([1, 2, 3], index=['a', 'b', 'c']),\n",
        "   'two' : pd.Series([1, 2, 3, 4], index=['a', 'b', 'c', 'd'])}\n",
        "\n",
        "df = pd.DataFrame(d)\n",
        "\n",
        "# Adding a new column to an existing DataFrame object with column label by passing new series\n",
        "\n",
        "print (\"Adding a new column by passing as Series:\")\n",
        "df['three']=pd.Series([10,20,30],index=['a','b','c'])\n",
        "print (df)\n",
        "\n",
        "print (\"Adding a new column using the existing columns in DataFrame:\")\n",
        "df['three']=df['one']+df['two']\n",
        "\n",
        "print (df)"
      ],
      "metadata": {
        "colab": {
          "base_uri": "https://localhost:8080/"
        },
        "id": "8f7SALZEhudb",
        "outputId": "dfc1ae8d-16ae-486f-c53a-94db08a2a712"
      },
      "execution_count": null,
      "outputs": [
        {
          "output_type": "stream",
          "name": "stdout",
          "text": [
            "Adding a new column by passing as Series:\n",
            "   one  two  three\n",
            "a  1.0    1   10.0\n",
            "b  2.0    2   20.0\n",
            "c  3.0    3   30.0\n",
            "d  NaN    4    NaN\n",
            "Adding a new column using the existing columns in DataFrame:\n",
            "   one  two  three\n",
            "a  1.0    1    2.0\n",
            "b  2.0    2    4.0\n",
            "c  3.0    3    6.0\n",
            "d  NaN    4    NaN\n"
          ]
        }
      ]
    },
    {
      "cell_type": "code",
      "source": [
        "d = {'one' : pd.Series([1, 2, 3], index=['a', 'b', 'c']),\n",
        "   'two' : pd.Series([1, 2, 3, 4], index=['a', 'b', 'c', 'd']),\n",
        "   'three' : pd.Series([10,20,30], index=['a','b','c'])}\n",
        "\n",
        "df = pd.DataFrame(d)\n",
        "print (\"Our dataframe is:\")\n",
        "print (df)\n",
        "\n",
        "# using del function\n",
        "print (\"Deleting the first column using DEL function:\")\n",
        "del df['one']\n",
        "print (df)\n",
        "\n",
        "# using pop function\n",
        "print (\"Deleting another column using POP function:\")\n",
        "df.pop('two')\n",
        "print (df)"
      ],
      "metadata": {
        "colab": {
          "base_uri": "https://localhost:8080/"
        },
        "id": "O-YkxZP7h4vT",
        "outputId": "2293e081-2f55-4056-e89a-ddb5cc0f6b49"
      },
      "execution_count": null,
      "outputs": [
        {
          "output_type": "stream",
          "name": "stdout",
          "text": [
            "Our dataframe is:\n",
            "   one  two  three\n",
            "a  1.0    1   10.0\n",
            "b  2.0    2   20.0\n",
            "c  3.0    3   30.0\n",
            "d  NaN    4    NaN\n",
            "Deleting the first column using DEL function:\n",
            "   two  three\n",
            "a    1   10.0\n",
            "b    2   20.0\n",
            "c    3   30.0\n",
            "d    4    NaN\n",
            "Deleting another column using POP function:\n",
            "   three\n",
            "a   10.0\n",
            "b   20.0\n",
            "c   30.0\n",
            "d    NaN\n"
          ]
        }
      ]
    },
    {
      "cell_type": "code",
      "source": [
        "# lambda\n",
        "# **kwargs\n"
      ],
      "metadata": {
        "id": "7WzodPkeiDP9"
      },
      "execution_count": null,
      "outputs": []
    },
    {
      "cell_type": "code",
      "source": [
        "# Matplotlib\n",
        "# Seaborn"
      ],
      "metadata": {
        "id": "yDm-oZdyyLw0"
      },
      "execution_count": null,
      "outputs": []
    },
    {
      "cell_type": "code",
      "source": [
        "# Data Preprocessing\n"
      ],
      "metadata": {
        "id": "46p62_5kySwK"
      },
      "execution_count": null,
      "outputs": []
    }
  ]
}